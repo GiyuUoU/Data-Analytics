{
  "cells": [
    {
      "cell_type": "markdown",
      "metadata": {
        "id": "3sshQM3PjQ39"
      },
      "source": [
        "**Basic Array Creation**"
      ]
    },
    {
      "cell_type": "code",
      "execution_count": 5,
      "metadata": {
        "colab": {
          "base_uri": "https://localhost:8080/"
        },
        "id": "0CG-ZcAOkGoH",
        "outputId": "9a57ec3e-f7f2-4cfb-b053-cf434d9db960"
      },
      "outputs": [
        {
          "data": {
            "text/plain": [
              "array([1, 2, 3, 4, 5])"
            ]
          },
          "execution_count": 5,
          "metadata": {},
          "output_type": "execute_result"
        }
      ],
      "source": [
        "# Import the numpy library, commonly imported as 'np' for convenience\n",
        "import numpy as np\n",
        "\n",
        "# Create a NumPy array named 'arr' with elements 1, 2, 3, 4, 5\n",
        "arr = np.array([1, 2, 3, 4, 5])\n",
        "\n",
        "# Display the contents of the array 'arr'\n",
        "arr"
      ]
    },
    {
      "cell_type": "code",
      "execution_count": 6,
      "metadata": {
        "colab": {
          "base_uri": "https://localhost:8080/"
        },
        "id": "bm1-veLwkTC7",
        "outputId": "0b0b4c19-2a6d-4b46-9ae4-b0d101e21783"
      },
      "outputs": [
        {
          "name": "stdout",
          "output_type": "stream",
          "text": [
            "[1, 2, 4.5, 'hello']\n"
          ]
        }
      ],
      "source": [
        "# Create a Python list named 'a' containing mixed data types:\n",
        "#   - integers: 1, 2\n",
        "#   - float: 4.5\n",
        "#   - string: \"hello\"\n",
        "a = [1, 2, 4.5, \"hello\"]\n",
        "\n",
        "# Display the contents of the list 'a'\n",
        "print(a)"
      ]
    },
    {
      "cell_type": "code",
      "execution_count": null,
      "metadata": {
        "colab": {
          "base_uri": "https://localhost:8080/"
        },
        "id": "RP8D_EDukPu3",
        "outputId": "1b1917d1-da40-434d-af94-3ef2771f9a45"
      },
      "outputs": [
        {
          "data": {
            "text/plain": [
              "array(['1', '2', '4.5', 'hello'], dtype='<U32')"
            ]
          },
          "execution_count": 7,
          "metadata": {},
          "output_type": "execute_result"
        }
      ],
      "source": [
        "# Create a NumPy array with elements 1, 2, and 3\n",
        "np.array(a)"
      ]
    },
    {
      "cell_type": "code",
      "execution_count": null,
      "metadata": {
        "colab": {
          "base_uri": "https://localhost:8080/"
        },
        "id": "SohrRl8LkR6I",
        "outputId": "84a292e2-757b-4b4d-dca4-8a22581e7592"
      },
      "outputs": [
        {
          "data": {
            "text/plain": [
              "[[1, 2, 3], [4, 5, 6], [7, 8, 9]]"
            ]
          },
          "execution_count": 6,
          "metadata": {},
          "output_type": "execute_result"
        }
      ],
      "source": [
        "# Create a nested list 'l' containing three sublists, each representing a row of numbers\n",
        "l = [[1, 2, 3], [4, 5, 6], [7, 8, 9]]\n",
        "\n",
        "l"
      ]
    },
    {
      "cell_type": "code",
      "execution_count": null,
      "metadata": {
        "colab": {
          "base_uri": "https://localhost:8080/"
        },
        "id": "6SzXSfYPkRh-",
        "outputId": "c68f378b-03ba-4570-9e27-ee44791356a7"
      },
      "outputs": [
        {
          "data": {
            "text/plain": [
              "array([[1, 2, 3],\n",
              "       [4, 5, 6],\n",
              "       [7, 8, 9]])"
            ]
          },
          "execution_count": 7,
          "metadata": {},
          "output_type": "execute_result"
        }
      ],
      "source": [
        "# Convert nested list to a 2D NumPy array for numerical operations\n",
        "np.array(l)"
      ]
    },
    {
      "cell_type": "markdown",
      "metadata": {
        "id": "p7hfTkoSjdj9"
      },
      "source": [
        "**Array Generation Function**"
      ]
    },
    {
      "cell_type": "code",
      "execution_count": null,
      "metadata": {
        "colab": {
          "base_uri": "https://localhost:8080/"
        },
        "id": "LBcSn8o3lLWb",
        "outputId": "976b0c90-1383-4168-d6a5-4c1136b2e8d6"
      },
      "outputs": [
        {
          "data": {
            "text/plain": [
              "array([1, 3, 5, 7, 9])"
            ]
          },
          "execution_count": 8,
          "metadata": {},
          "output_type": "execute_result"
        }
      ],
      "source": [
        "# Create a NumPy array with values from 1 to 10 (exclusive) stepping by 2\n",
        "arr = np.arange(1, 11, 2)\n",
        "\n",
        "arr"
      ]
    },
    {
      "cell_type": "code",
      "execution_count": null,
      "metadata": {
        "colab": {
          "base_uri": "https://localhost:8080/"
        },
        "id": "iFIJ9FwElM29",
        "outputId": "27026770-b799-4d93-8c95-ee0a0247a419"
      },
      "outputs": [
        {
          "data": {
            "text/plain": [
              "array([[0., 0., 0., 0., 0., 0., 0., 0.],\n",
              "       [0., 0., 0., 0., 0., 0., 0., 0.],\n",
              "       [0., 0., 0., 0., 0., 0., 0., 0.],\n",
              "       [0., 0., 0., 0., 0., 0., 0., 0.]])"
            ]
          },
          "execution_count": 9,
          "metadata": {},
          "output_type": "execute_result"
        }
      ],
      "source": [
        "# Create a 4x8 NumPy array filled with zeros\n",
        "arr = np.zeros((4, 8))\n",
        "\n",
        "arr"
      ]
    },
    {
      "cell_type": "code",
      "execution_count": null,
      "metadata": {
        "colab": {
          "base_uri": "https://localhost:8080/"
        },
        "id": "WjI5IZNqlMgU",
        "outputId": "52dbf203-c15d-48de-d438-22d8ae6361ee"
      },
      "outputs": [
        {
          "data": {
            "text/plain": [
              "array([[1., 1., 1., 1., 1., 1.],\n",
              "       [1., 1., 1., 1., 1., 1.],\n",
              "       [1., 1., 1., 1., 1., 1.],\n",
              "       [1., 1., 1., 1., 1., 1.],\n",
              "       [1., 1., 1., 1., 1., 1.],\n",
              "       [1., 1., 1., 1., 1., 1.]])"
            ]
          },
          "execution_count": 10,
          "metadata": {},
          "output_type": "execute_result"
        }
      ],
      "source": [
        "# Create a 6x6 NumPy array filled with ones\n",
        "arr = np.ones((6, 6))\n",
        "\n",
        "arr"
      ]
    },
    {
      "cell_type": "code",
      "execution_count": null,
      "metadata": {
        "colab": {
          "base_uri": "https://localhost:8080/"
        },
        "id": "AuW5acF6lMJn",
        "outputId": "2f7661b9-e861-4579-d0d8-d3b5ffb473cb"
      },
      "outputs": [
        {
          "data": {
            "text/plain": [
              "array([1.        , 1.44444444, 1.88888889, 2.33333333, 2.77777778,\n",
              "       3.22222222, 3.66666667, 4.11111111, 4.55555556, 5.        ])"
            ]
          },
          "execution_count": 11,
          "metadata": {},
          "output_type": "execute_result"
        }
      ],
      "source": [
        "# Create a NumPy array of 10 evenly spaced values starting at 1 and ending at 5\n",
        "arr = np.linspace(1, 5, 10)\n",
        "\n",
        "arr"
      ]
    },
    {
      "cell_type": "markdown",
      "metadata": {
        "id": "t093kM7pjjtJ"
      },
      "source": [
        "**Random Generation Funtion**"
      ]
    },
    {
      "cell_type": "code",
      "execution_count": null,
      "metadata": {
        "colab": {
          "base_uri": "https://localhost:8080/"
        },
        "id": "sCaqP6l8mDV6",
        "outputId": "54243fbf-82f8-4e67-d66f-676c8bda8bb5"
      },
      "outputs": [
        {
          "data": {
            "text/plain": [
              "array([0.65283192, 0.04078837, 0.05106364, 0.37478239, 0.10677584])"
            ]
          },
          "execution_count": 12,
          "metadata": {},
          "output_type": "execute_result"
        }
      ],
      "source": [
        "# Generate a 1D NumPy array of 5 random numbers uniformly distributed between 0 and 1\n",
        "arr = np.random.rand(5)\n",
        "\n",
        "arr"
      ]
    },
    {
      "cell_type": "code",
      "execution_count": null,
      "metadata": {
        "colab": {
          "base_uri": "https://localhost:8080/"
        },
        "id": "EfFvMSMnmFd0",
        "outputId": "f13048e2-122b-48d9-e8fe-ea04bbbdc30d"
      },
      "outputs": [
        {
          "data": {
            "text/plain": [
              "array([ 0.65800308,  1.58459455, -0.40904692,  0.48878243, -1.61603642,\n",
              "        2.16114737, -0.79320321,  0.2075701 ,  1.12440886,  0.69298644])"
            ]
          },
          "execution_count": 13,
          "metadata": {},
          "output_type": "execute_result"
        }
      ],
      "source": [
        "# Generate a 1D NumPy array with 10 random values sampled from a standard normal distribution (mean 0, variance 1)\n",
        "arr = np.random.randn(10)\n",
        "\n",
        "arr"
      ]
    },
    {
      "cell_type": "code",
      "execution_count": null,
      "metadata": {
        "colab": {
          "base_uri": "https://localhost:8080/"
        },
        "id": "bL59_v7WmFLu",
        "outputId": "a2bfdf60-11f3-4aca-d8dc-e4df3ee4a8fb"
      },
      "outputs": [
        {
          "data": {
            "text/plain": [
              "array([17, 20, 29, 11, 22, 16, 12, 10, 21, 16])"
            ]
          },
          "execution_count": 14,
          "metadata": {},
          "output_type": "execute_result"
        }
      ],
      "source": [
        "# Generate an array of 10 random integers between 10 (inclusive) and 30 (exclusive)\n",
        "arr = np.random.randint(10, 30, 10)\n",
        "\n",
        "arr"
      ]
    },
    {
      "cell_type": "markdown",
      "metadata": {
        "id": "HoZVPtRmjxEx"
      },
      "source": [
        "**Array Attributes**"
      ]
    },
    {
      "cell_type": "code",
      "execution_count": null,
      "metadata": {
        "colab": {
          "base_uri": "https://localhost:8080/"
        },
        "id": "7NppnrHBbXGx",
        "outputId": "1da99e5f-a363-43d8-8eed-d34cd3da5ee6"
      },
      "outputs": [
        {
          "data": {
            "text/plain": [
              "array([[1, 2, 3],\n",
              "       [4, 5, 6],\n",
              "       [7, 8, 9]])"
            ]
          },
          "execution_count": 16,
          "metadata": {},
          "output_type": "execute_result"
        }
      ],
      "source": [
        "# Create a 3x3 NumPy array from a nested Python list, representing a 2D matrix\n",
        "arr = np.array([[1, 2, 3], [4, 5, 6], [7, 8, 9]])\n",
        "\n",
        "arr"
      ]
    },
    {
      "cell_type": "code",
      "execution_count": 17,
      "metadata": {
        "colab": {
          "base_uri": "https://localhost:8080/"
        },
        "id": "ZxQGmvIQbXDc",
        "outputId": "ef389d78-94ad-4d67-de8c-ef36ef17d143"
      },
      "outputs": [
        {
          "data": {
            "text/plain": [
              "(3, 3)"
            ]
          },
          "execution_count": 17,
          "metadata": {},
          "output_type": "execute_result"
        }
      ],
      "source": [
        "arr.shape"
      ]
    },
    {
      "cell_type": "code",
      "execution_count": 18,
      "metadata": {
        "colab": {
          "base_uri": "https://localhost:8080/"
        },
        "id": "hEYY4CtKbXAD",
        "outputId": "4cdd5225-54c0-4d21-a56a-8024e27eaf06"
      },
      "outputs": [
        {
          "data": {
            "text/plain": [
              "9"
            ]
          },
          "execution_count": 18,
          "metadata": {},
          "output_type": "execute_result"
        }
      ],
      "source": [
        "arr.size"
      ]
    },
    {
      "cell_type": "code",
      "execution_count": 19,
      "metadata": {
        "colab": {
          "base_uri": "https://localhost:8080/"
        },
        "id": "48M3qzfobW7j",
        "outputId": "3609c78d-a391-41b1-acbf-49ec7b8931f0"
      },
      "outputs": [
        {
          "data": {
            "text/plain": [
              "dtype('int64')"
            ]
          },
          "execution_count": 19,
          "metadata": {},
          "output_type": "execute_result"
        }
      ],
      "source": [
        "arr.dtype"
      ]
    },
    {
      "cell_type": "markdown",
      "metadata": {
        "id": "EagzwyHDbaae"
      },
      "source": [
        "**Array Method**"
      ]
    },
    {
      "cell_type": "code",
      "execution_count": 20,
      "metadata": {
        "colab": {
          "base_uri": "https://localhost:8080/"
        },
        "id": "tc1cKOjKb4nf",
        "outputId": "a1881025-550f-4f2e-8fcc-1f35c320b088"
      },
      "outputs": [
        {
          "data": {
            "text/plain": [
              "array([[1, 2, 3],\n",
              "       [4, 5, 6],\n",
              "       [7, 8, 9]])"
            ]
          },
          "execution_count": 20,
          "metadata": {},
          "output_type": "execute_result"
        }
      ],
      "source": [
        "arr"
      ]
    },
    {
      "cell_type": "code",
      "execution_count": 22,
      "metadata": {
        "colab": {
          "base_uri": "https://localhost:8080/"
        },
        "id": "y2CCVCPBb4gB",
        "outputId": "0262e94e-a387-4fd2-ff79-236073e4969e"
      },
      "outputs": [
        {
          "data": {
            "text/plain": [
              "np.int64(1)"
            ]
          },
          "execution_count": 22,
          "metadata": {},
          "output_type": "execute_result"
        }
      ],
      "source": [
        "arr.min()"
      ]
    },
    {
      "cell_type": "code",
      "execution_count": 23,
      "metadata": {
        "colab": {
          "base_uri": "https://localhost:8080/"
        },
        "id": "i3znS7A0b4Z-",
        "outputId": "52f45968-127c-46ec-acdd-4ca84f80c650"
      },
      "outputs": [
        {
          "data": {
            "text/plain": [
              "np.int64(9)"
            ]
          },
          "execution_count": 23,
          "metadata": {},
          "output_type": "execute_result"
        }
      ],
      "source": [
        "arr.max()"
      ]
    },
    {
      "cell_type": "code",
      "execution_count": 24,
      "metadata": {
        "colab": {
          "base_uri": "https://localhost:8080/"
        },
        "id": "H8V2Yazlb4UK",
        "outputId": "1056eb19-49ba-48b7-e97a-1b4d0b9753bc"
      },
      "outputs": [
        {
          "data": {
            "text/plain": [
              "np.int64(45)"
            ]
          },
          "execution_count": 24,
          "metadata": {},
          "output_type": "execute_result"
        }
      ],
      "source": [
        "arr.sum()"
      ]
    },
    {
      "cell_type": "code",
      "execution_count": null,
      "metadata": {
        "colab": {
          "base_uri": "https://localhost:8080/"
        },
        "id": "OUeWaJoccEjJ",
        "outputId": "d9621098-79cf-4f6c-8a94-dd3479559a58"
      },
      "outputs": [
        {
          "data": {
            "text/plain": [
              "array([12, 15, 18])"
            ]
          },
          "execution_count": 26,
          "metadata": {},
          "output_type": "execute_result"
        }
      ],
      "source": [
        "# Calculate the sum of the array elements along the specified axis (0 for columns, 1 for rows)\n",
        "np.sum(arr , axis=0)"
      ]
    },
    {
      "cell_type": "code",
      "execution_count": null,
      "metadata": {
        "colab": {
          "base_uri": "https://localhost:8080/"
        },
        "id": "L7DujOX6dQsi",
        "outputId": "f377be93-0315-484a-b377-3b43bb4417e6"
      },
      "outputs": [
        {
          "data": {
            "text/plain": [
              "np.float64(5.0)"
            ]
          },
          "execution_count": 27,
          "metadata": {},
          "output_type": "execute_result"
        }
      ],
      "source": [
        "arr.mean()"
      ]
    },
    {
      "cell_type": "code",
      "execution_count": null,
      "metadata": {
        "colab": {
          "base_uri": "https://localhost:8080/"
        },
        "id": "8401UcOudTd0",
        "outputId": "25412188-04f5-4afd-b556-fe8bce14be8f"
      },
      "outputs": [
        {
          "data": {
            "text/plain": [
              "np.float64(2.581988897471611)"
            ]
          },
          "execution_count": 28,
          "metadata": {},
          "output_type": "execute_result"
        }
      ],
      "source": [
        "# Calculate the standard deviation of the array 'arr'\n",
        "arr.std()"
      ]
    },
    {
      "cell_type": "code",
      "execution_count": null,
      "metadata": {
        "colab": {
          "base_uri": "https://localhost:8080/"
        },
        "id": "YZW8br9f4EBi",
        "outputId": "1e8f42e5-dfc4-44e7-a04c-57f8fb5093fd"
      },
      "outputs": [
        {
          "data": {
            "text/plain": [
              "np.int64(8)"
            ]
          },
          "execution_count": 29,
          "metadata": {},
          "output_type": "execute_result"
        }
      ],
      "source": [
        "# Provide the index of the maximum value in the array\n",
        "arr.argmax()"
      ]
    },
    {
      "cell_type": "markdown",
      "metadata": {
        "id": "VeN2YhlHj3F2"
      },
      "source": [
        "**Reshaping and Resizing**"
      ]
    },
    {
      "cell_type": "code",
      "execution_count": null,
      "metadata": {
        "colab": {
          "base_uri": "https://localhost:8080/"
        },
        "id": "qkHIE-TH4L9h",
        "outputId": "48754235-eb9e-4402-d529-488be469f69d"
      },
      "outputs": [
        {
          "data": {
            "text/plain": [
              "array([ 1,  2,  3,  4,  5,  6,  7,  8,  9, 10, 11, 12, 13, 14, 15, 16, 17,\n",
              "       18, 19, 20, 21, 22, 23, 24, 25, 26, 27, 28, 29, 30])"
            ]
          },
          "execution_count": 31,
          "metadata": {},
          "output_type": "execute_result"
        }
      ],
      "source": [
        "# Create a NumPy array with values from 1 to 30 (exclusive)\n",
        "arr = np.arange(1,31)\n",
        "arr"
      ]
    },
    {
      "cell_type": "code",
      "execution_count": null,
      "metadata": {
        "colab": {
          "base_uri": "https://localhost:8080/"
        },
        "id": "TAARQTwN4Lwl",
        "outputId": "7bb7cb60-5a35-440f-dc6f-43fe58d47fdb"
      },
      "outputs": [
        {
          "data": {
            "text/plain": [
              "array([[ 1,  2,  3,  4,  5],\n",
              "       [ 6,  7,  8,  9, 10],\n",
              "       [11, 12, 13, 14, 15],\n",
              "       [16, 17, 18, 19, 20],\n",
              "       [21, 22, 23, 24, 25],\n",
              "       [26, 27, 28, 29, 30]])"
            ]
          },
          "execution_count": 33,
          "metadata": {},
          "output_type": "execute_result"
        }
      ],
      "source": [
        "# Reshape the array 'arr' into a 6x5 matrix\n",
        "arr.reshape(6,5)"
      ]
    },
    {
      "cell_type": "code",
      "execution_count": 13,
      "metadata": {
        "id": "DiD3qdv0jizc"
      },
      "outputs": [],
      "source": []
    }
  ],
  "metadata": {
    "colab": {
      "provenance": []
    },
    "kernelspec": {
      "display_name": "Python 3",
      "name": "python3"
    },
    "language_info": {
      "codemirror_mode": {
        "name": "ipython",
        "version": 3
      },
      "file_extension": ".py",
      "mimetype": "text/x-python",
      "name": "python",
      "nbconvert_exporter": "python",
      "pygments_lexer": "ipython3",
      "version": "3.12.10"
    }
  },
  "nbformat": 4,
  "nbformat_minor": 0
}
